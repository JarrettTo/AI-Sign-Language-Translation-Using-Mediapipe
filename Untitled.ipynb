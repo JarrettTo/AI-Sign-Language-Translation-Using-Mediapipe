{
 "cells": [
  {
   "cell_type": "code",
   "execution_count": 90,
   "id": "c458d165-4345-4e7c-bee2-335a61738291",
   "metadata": {},
   "outputs": [
    {
     "data": {
      "text/plain": [
       "[\"COVID's\",\n",
       " \"I'm\",\n",
       " \"I'M\",\n",
       " \"WOW'D\",\n",
       " \"DOn't\",\n",
       " \"won't\",\n",
       " \"shouldn't\",\n",
       " \"vel'koz\",\n",
       " \"Philippines'\",\n",
       " \"wow's\",\n",
       " \"amazing'd\",\n",
       " \"you're\"]"
      ]
     },
     "execution_count": 90,
     "metadata": {},
     "output_type": "execute_result"
    }
   ],
   "source": [
    "# Import the library for regular expressions\n",
    "import re\n",
    "\n",
    "# Load in the text file\n",
    "with open(\"RegExExampleArticle.txt\") as f:\n",
    "  text = f.read() \n",
    "text = \"COVID's I'm I'M WOW'D DOn't won't shouldn't vel'koz Philippines' 'wow' 'wow's' 'amazing'd' wow' you're \"\n",
    "# Supply your pattern here\n",
    "pattern = r\"\\b[A-Za-z]+s'(?![AZa-z])|\\b[A-Za-z]+'[A-Za-z]+\\b\"\n",
    "pattern2=r\"\\b[A-Za-z]*th[A-Za-z]*\\b\"\n",
    "pattern3 = r'\"([^\"]*)\"'\n",
    "pattern4 = r'\\b\\w+-[-\\w]+\\b'\n",
    "pattern5 = r'(?<!\\w)-?(?:\\d+\\.\\d*|\\.\\d+|[\\d+,]+\\d+|\\d+)'\n",
    "# Search through the document using finditer()\n",
    "matches = []\n",
    "for match in re.finditer(pattern, text):\n",
    "  matches.append(match.group())\n",
    "\n",
    "# The matches are in here\n",
    "matches"
   ]
  },
  {
   "cell_type": "code",
   "execution_count": null,
   "id": "bc9293bc-4276-415a-bb82-fa813d9a5a3f",
   "metadata": {},
   "outputs": [],
   "source": []
  }
 ],
 "metadata": {
  "kernelspec": {
   "display_name": "Python 3 (ipykernel)",
   "language": "python",
   "name": "python3"
  },
  "language_info": {
   "codemirror_mode": {
    "name": "ipython",
    "version": 3
   },
   "file_extension": ".py",
   "mimetype": "text/x-python",
   "name": "python",
   "nbconvert_exporter": "python",
   "pygments_lexer": "ipython3",
   "version": "3.10.7"
  }
 },
 "nbformat": 4,
 "nbformat_minor": 5
}
